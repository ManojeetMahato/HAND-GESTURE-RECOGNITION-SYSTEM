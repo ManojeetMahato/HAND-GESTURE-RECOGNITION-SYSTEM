import cv2
import numpy as np
import mediapipe as mp
import tensorflow as tf
from tensorflow.keras.models import load_model

mpHands = mp.solutions.hands
hands = mpHands.Hands(max_num_hands=2, min_detection_confidence=0.7)
mpDraw = mp.solutions.drawing_utils

model = load_model('mp_hand_gesture')

# Load class names
f = open('gesture.names', 'r')
classNames = f.read().split('\n')
f.close()
print(classNames)


cap = cv2.VideoCapture(0)

while True:
    # Read each frame from the webcam
    ret, frame = cap.read()

    if not ret:
        print("Error reading frame")
        break

    x, y, c = frame.shape

    # Flip the frame vertically
    frame = cv2.flip(frame, 1)

    framergb = cv2.cvtColor(frame, cv2.COLOR_BGR2RGB)
    # Get hand landmark prediction
    result = hands.process(framergb)

    # Create a list to store the centers of each hand
    centers = []

    # post process the result
    if result.multi_hand_landmarks:
        for handslms in result.multi_hand_landmarks:
            landmarks = []
            for lm in handslms.landmark:
                lmx = int(lm.x * x)
                lmy = int(lm.y * y)
                landmarks.append([lmx, lmy])

            # Drawing landmarks on frames
            mpDraw.draw_landmarks(frame, handslms, mpHands.HAND_CONNECTIONS)

            # Predict gesture in Hand Gesture Recognition project
            prediction = model.predict([landmarks])

            classID = np.argmax(prediction)
            className = classNames[classID]

            # Calculate the center of the hand
            xmin = min([lmx for lmx, lmy in landmarks])
            xmax = max([lmx for lmx, lmy in landmarks])
            ymin = min([lmy for lmx, lmy in landmarks])
            ymax = max([lmy for lmx, lmy in landmarks])
            cx = int((xmin + xmax) / 2)
            cy = int((ymin + ymax) / 2)

            # Store the center of the hand in the centers list
            centers.append((cx, cy))

            # Show the name of the gesture on either side of the frame based on the center of the hand
            if cx < x/2:
                cv2.putText(frame, className, (10, 50), cv2.FONT_HERSHEY_SIMPLEX, 1, (0, 0, 255), 2, cv2.LINE_AA)
            else:
                cv2.putText(frame, className, (x - 200, 50), cv2.FONT_HERSHEY_SIMPLEX, 1, (0, 0, 255), 2, cv2.LINE_AA)

    # Show the centers of the hands on the frame
    for center in centers:
        cv2.circle(frame, center, 5, (255, 0, 0), -1)

    # show the output
    cv2.imshow("Output", frame)
    if cv2.waitKey(1) == ord('q'):
        break

# release the webcam and destroy all active windows
cap.release()
cv2.destroyAllWindows()
import cv2
import numpy as np
import mediapipe as mp
import tensorflow as tf
from tensorflow.keras.models import load_model

mpHands = mp.solutions.hands
hands = mpHands.Hands(max_num_hands=2, min_detection_confidence=0.7)
mpDraw = mp.solutions.drawing_utils

model = load_model('mp_hand_gesture')

# Load class names
f = open('gesture.names', 'r')
classNames = f.read().split('\n')
f.close()
print(classNames)


cap = cv2.VideoCapture(0)

while True:
    # Read each frame from the webcam
    ret, frame = cap.read()

    if not ret:
        print("Error reading frame")
        break

    x, y, c = frame.shape

    # Flip the frame vertically
    frame = cv2.flip(frame, 1)

    framergb = cv2.cvtColor(frame, cv2.COLOR_BGR2RGB)
    # Get hand landmark prediction
    result = hands.process(framergb)

    # Create a list to store the centers of each hand
    centers = []

    # post process the result
    if result.multi_hand_landmarks:
        for handslms in result.multi_hand_landmarks:
            landmarks = []
            for lm in handslms.landmark:
                lmx = int(lm.x * x)
                lmy = int(lm.y * y)
                landmarks.append([lmx, lmy])

            # Drawing landmarks on frames
            mpDraw.draw_landmarks(frame, handslms, mpHands.HAND_CONNECTIONS)

            # Predict gesture in Hand Gesture Recognition project
            prediction = model.predict([landmarks])

            classID = np.argmax(prediction)
            className = classNames[classID]

            # Calculate the center of the hand
            xmin = min([lmx for lmx, lmy in landmarks])
            xmax = max([lmx for lmx, lmy in landmarks])
            ymin = min([lmy for lmx, lmy in landmarks])
            ymax = max([lmy for lmx, lmy in landmarks])
            cx = int((xmin + xmax) / 2)
            cy = int((ymin + ymax) / 2)

            # Store the center of the hand in the centers list
            centers.append((cx, cy))

            # Show the name of the gesture on either side of the frame based on the center of the hand
            if cx < x/2:
                cv2.putText(frame, className, (10, 50), cv2.FONT_HERSHEY_SIMPLEX, 1, (0, 0, 255), 2, cv2.LINE_AA)
            else:
                cv2.putText(frame, className, (x - 200, 50), cv2.FONT_HERSHEY_SIMPLEX, 1, (0, 0, 255), 2, cv2.LINE_AA)

    # Show the centers of the hands on the frame
    for center in centers:
        cv2.circle(frame, center, 5, (255, 0, 0), -1)

    # show the output
    cv2.imshow("Output", frame)
    if cv2.waitKey(1) == ord('q'):
        break

# release the webcam and destroy all active windows
cap.release()
cv2.destroyAllWindows()
